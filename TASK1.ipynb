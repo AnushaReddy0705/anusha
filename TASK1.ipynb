{
 "cells": [
  {
   "cell_type": "code",
   "execution_count": 7,
   "id": "2d1c8579-fe5d-4dd8-b768-79fcbfb9c613",
   "metadata": {},
   "outputs": [
    {
     "name": "stdout",
     "output_type": "stream",
     "text": [
      "Article successfully scraped and saved at scraped_articles\\future_of_ai_healthcare.txt\n",
      "Current working directory: C:\\Users\\Anusha\\Downloads\n"
     ]
    }
   ],
   "source": [
    "# Step 1: Import the required libraries\n",
    "import os\n",
    "import requests\n",
    "from bs4 import BeautifulSoup\n",
    "\n",
    "# Function to scrape and save the article\n",
    "def scrape_medium_article(url):\n",
    "    # Step 2: Send a GET request to fetch the HTML content\n",
    "    response = requests.get(url)\n",
    "\n",
    "    # Step 3: Check if the request was successful (status code 200)\n",
    "    if response.status_code == 200:\n",
    "        # Step 4: Parse the HTML content using BeautifulSoup\n",
    "        soup = BeautifulSoup(response.content, 'html.parser')\n",
    "\n",
    "        # Step 5: Extract all text within <p> tags (paragraphs)\n",
    "        paragraphs = soup.find_all('p')\n",
    "        article_text = ''\n",
    "        for p in paragraphs:\n",
    "            article_text += p.get_text() + '\\n\\n'\n",
    "\n",
    "        # Step 6: Create a folder named 'scraped_articles' if it doesn't exist\n",
    "        if not os.path.exists('scraped_articles'):\n",
    "            os.makedirs('scraped_articles')\n",
    "\n",
    "        # Step 7: Define the file name and save path\n",
    "        file_path = os.path.join('scraped_articles', 'future_of_ai_healthcare.txt')\n",
    "\n",
    "        # Step 8: Write the scraped text to the file\n",
    "        with open(file_path, 'w', encoding='utf-8') as file:\n",
    "            file.write(article_text)\n",
    "\n",
    "        print(f\"Article successfully scraped and saved at {file_path}\")\n",
    "    else:\n",
    "        print(\"Failed to retrieve the webpage. Status code:\", response.status_code)\n",
    "\n",
    "# Step 9: Replace with your Medium article URL\n",
    "url = 'https://mcpress.mayoclinic.org/healthy-aging/ai-in-healthcare-the-future-of-patient-care-and-health-management/'\n",
    "\n",
    "# Step 10: Call the function to scrape and save the article\n",
    "scrape_medium_article(url)\n",
    "\n",
    "\n",
    "# Print the current working directory\n",
    "print(f\"Current working directory: {os.getcwd()}\")\n",
    "\n"
   ]
  },
  {
   "cell_type": "code",
   "execution_count": null,
   "id": "8a697e81-3b21-4b4b-9c89-8cff6009d3a9",
   "metadata": {},
   "outputs": [],
   "source": []
  }
 ],
 "metadata": {
  "kernelspec": {
   "display_name": "Python 3 (ipykernel)",
   "language": "python",
   "name": "python3"
  },
  "language_info": {
   "codemirror_mode": {
    "name": "ipython",
    "version": 3
   },
   "file_extension": ".py",
   "mimetype": "text/x-python",
   "name": "python",
   "nbconvert_exporter": "python",
   "pygments_lexer": "ipython3",
   "version": "3.12.4"
  }
 },
 "nbformat": 4,
 "nbformat_minor": 5
}
